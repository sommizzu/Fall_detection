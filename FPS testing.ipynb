{
  "nbformat": 4,
  "nbformat_minor": 0,
  "metadata": {
    "colab": {
      "private_outputs": true,
      "provenance": [],
      "machine_shape": "hm",
      "gpuType": "A100",
      "authorship_tag": "ABX9TyMnL6zmHFW4Rg94i57VJ9bS",
      "include_colab_link": true
    },
    "kernelspec": {
      "name": "python3",
      "display_name": "Python 3"
    },
    "language_info": {
      "name": "python"
    },
    "accelerator": "GPU"
  },
  "cells": [
    {
      "cell_type": "markdown",
      "metadata": {
        "id": "view-in-github",
        "colab_type": "text"
      },
      "source": [
        "<a href=\"https://colab.research.google.com/github/sommizzu/Fall_detection/blob/main/FPS%20testing.ipynb\" target=\"_parent\"><img src=\"https://colab.research.google.com/assets/colab-badge.svg\" alt=\"Open In Colab\"/></a>"
      ]
    },
    {
      "cell_type": "code",
      "execution_count": null,
      "metadata": {
        "id": "pGljGD7Dj0vx"
      },
      "outputs": [],
      "source": [
        "from google.colab import drive\n",
        "drive.mount(\"/content/drive\")"
      ]
    },
    {
      "cell_type": "code",
      "source": [
        "!git clone https://github.com/RizwanMunawar/yolov7-pose-estimation.git"
      ],
      "metadata": {
        "id": "jSZkR3pMj7kz"
      },
      "execution_count": null,
      "outputs": []
    },
    {
      "cell_type": "code",
      "source": [
        "%cd yolov7-pose-estimation"
      ],
      "metadata": {
        "id": "a1yXo9XZj8yB"
      },
      "execution_count": null,
      "outputs": []
    },
    {
      "cell_type": "code",
      "source": [
        "!pip install --upgrade pip\n",
        "!pip install -r requirements.txt"
      ],
      "metadata": {
        "id": "oR69Pi3ej98z"
      },
      "execution_count": null,
      "outputs": []
    },
    {
      "cell_type": "code",
      "source": [
        "!python pose-estimate.py --source \"football1.mp4\" --device 0"
      ],
      "metadata": {
        "id": "TLnGfYRrkDJJ"
      },
      "execution_count": null,
      "outputs": []
    },
    {
      "cell_type": "code",
      "source": [
        "import matplotlib.pyplot as plt\n",
        "import matplotlib.image as mpimg\n",
        "\n",
        "# 이미지 파일 경로\n",
        "img_path = 'FPS_and_Time_Comparision_pose_estimate.png'\n",
        "\n",
        "# 이미지 불러오기\n",
        "img = mpimg.imread(img_path)\n",
        "\n",
        "# 이미지 표시\n",
        "plt.figure(figsize=(10,10))\n",
        "plt.imshow(img)\n",
        "plt.axis('off')  # 축 정보 숨기기\n",
        "plt.show()"
      ],
      "metadata": {
        "id": "euxxhNqmpxDr"
      },
      "execution_count": null,
      "outputs": []
    },
    {
      "cell_type": "code",
      "source": [
        "!python pose-estimate.py --source \"fall_news.mp4\" --device 0"
      ],
      "metadata": {
        "id": "Oa6uCPuFzAyX"
      },
      "execution_count": null,
      "outputs": []
    },
    {
      "cell_type": "code",
      "source": [
        "import matplotlib.pyplot as plt\n",
        "import matplotlib.image as mpimg\n",
        "\n",
        "# 이미지 파일 경로\n",
        "img_path = 'FPS_and_Time_Comparision_pose_estimate.png'\n",
        "\n",
        "# 이미지 불러오기\n",
        "img = mpimg.imread(img_path)\n",
        "\n",
        "# 이미지 표시\n",
        "plt.figure(figsize=(10,10))\n",
        "plt.imshow(img)\n",
        "plt.axis('off')  # 축 정보 숨기기\n",
        "plt.show()"
      ],
      "metadata": {
        "id": "z2A38vSx0xlq"
      },
      "execution_count": null,
      "outputs": []
    },
    {
      "cell_type": "code",
      "source": [
        "!python pose-estimate.py --source \"fall.mp4\" --device 0"
      ],
      "metadata": {
        "id": "UCHAAeIRzIxz"
      },
      "execution_count": null,
      "outputs": []
    },
    {
      "cell_type": "code",
      "source": [
        "import matplotlib.pyplot as plt\n",
        "import matplotlib.image as mpimg\n",
        "\n",
        "# 이미지 파일 경로\n",
        "img_path = 'FPS_and_Time_Comparision_pose_estimate.png'\n",
        "\n",
        "# 이미지 불러오기\n",
        "img = mpimg.imread(img_path)\n",
        "\n",
        "# 이미지 표시\n",
        "plt.figure(figsize=(10,10))\n",
        "plt.imshow(img)\n",
        "plt.axis('off')  # 축 정보 숨기기\n",
        "plt.show()"
      ],
      "metadata": {
        "id": "ASUKFab3024b"
      },
      "execution_count": null,
      "outputs": []
    },
    {
      "cell_type": "code",
      "source": [
        "import os\n",
        "\n",
        "# \"fall detection test\" 디렉토리 생성\n",
        "folder_path = \"/content/drive/MyDrive/fall detection test\"\n",
        "if not os.path.exists(folder_path):\n",
        "    os.makedirs(folder_path)\n",
        "\n",
        "# 클론된 저장소의 전체 디렉토리를 \"fall detection test\" 폴더로 복사\n",
        "!cp -r /content/yolov7-pose-estimation \"{folder_path}/\"\n"
      ],
      "metadata": {
        "id": "ni1ud6L1tblJ"
      },
      "execution_count": null,
      "outputs": []
    }
  ]
}